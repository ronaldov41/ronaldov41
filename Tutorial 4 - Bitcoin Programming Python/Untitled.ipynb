{
 "cells": [
  {
   "cell_type": "code",
   "execution_count": 1,
   "id": "48694620",
   "metadata": {},
   "outputs": [
    {
     "ename": "FileNotFoundError",
     "evalue": "[Errno 2] No such file or directory: 'README.mediawiki.txt'",
     "output_type": "error",
     "traceback": [
      "\u001b[1;31m---------------------------------------------------------------------------\u001b[0m",
      "\u001b[1;31mFileNotFoundError\u001b[0m                         Traceback (most recent call last)",
      "Input \u001b[1;32mIn [1]\u001b[0m, in \u001b[0;36m<cell line: 11>\u001b[1;34m()\u001b[0m\n\u001b[0;32m      7\u001b[0m regex_altnum \u001b[38;5;241m=\u001b[39m re\u001b[38;5;241m.\u001b[39mcompile(\u001b[38;5;124m\"\u001b[39m\u001b[38;5;130;01m\\\\\u001b[39;00m\u001b[38;5;124mD+(\u001b[39m\u001b[38;5;130;01m\\\\\u001b[39;00m\u001b[38;5;124md+)\u001b[39m\u001b[38;5;130;01m\\\\\u001b[39;00m\u001b[38;5;124mD+\u001b[39m\u001b[38;5;124m\"\u001b[39m)\n\u001b[0;32m      9\u001b[0m bips \u001b[38;5;241m=\u001b[39m []\n\u001b[1;32m---> 11\u001b[0m f \u001b[38;5;241m=\u001b[39m \u001b[38;5;28;43mopen\u001b[39;49m\u001b[43m(\u001b[49m\u001b[38;5;124;43m'\u001b[39;49m\u001b[38;5;124;43mREADME.mediawiki.txt\u001b[39;49m\u001b[38;5;124;43m'\u001b[39;49m\u001b[43m,\u001b[49m\u001b[43m \u001b[49m\u001b[38;5;124;43m'\u001b[39;49m\u001b[38;5;124;43mr\u001b[39;49m\u001b[38;5;124;43m'\u001b[39;49m\u001b[43m)\u001b[49m\n\u001b[0;32m     13\u001b[0m line \u001b[38;5;241m=\u001b[39m f\u001b[38;5;241m.\u001b[39mreadline()\n\u001b[0;32m     15\u001b[0m \u001b[38;5;28;01mwhile\u001b[39;00m (line[\u001b[38;5;241m0\u001b[39m] \u001b[38;5;241m!=\u001b[39m \u001b[38;5;124m\"\u001b[39m\u001b[38;5;124m|\u001b[39m\u001b[38;5;124m\"\u001b[39m):\n",
      "\u001b[1;31mFileNotFoundError\u001b[0m: [Errno 2] No such file or directory: 'README.mediawiki.txt'"
     ]
    }
   ],
   "source": [
    "\n",
    "# Convert mediawiki list of BIPs to asciidoc table for book appendix\n",
    "# Gnarly hack of regex with no error checking - it worked once\n",
    "\n",
    "import re\n",
    "\n",
    "regex_num = re.compile(\"\\\\|.\\\\[\\\\[bip-\\\\d+.mediawiki\\\\|(\\\\d+)\\\\]\\\\]\")\n",
    "regex_altnum = re.compile(\"\\\\D+(\\\\d+)\\\\D+\")\n",
    "\n",
    "bips = []\n",
    "\n",
    "f = open('README.mediawiki.txt', 'r')\n",
    "\n",
    "line = f.readline()\n",
    "\n",
    "while (line[0] != \"|\"):\n",
    "    line = f.readline()\n",
    "\n",
    "while (line[1] == '-'):\n",
    "    line_num = f.readline()\n",
    "    line_layer = f.readline()[2:-1]\n",
    "    line_title = f.readline()[2:-1]\n",
    "    line_owner = f.readline()[2:-1]\n",
    "    line_type = f.readline()[2:-1]\n",
    "    line_status = f.readline()[2:-1]\n",
    "    line = f.readline()\n",
    "    while (line[0] != \"|\"):\n",
    "        line = f.readline()\n",
    "\n",
    "    num = regex_num.match(line_num)\n",
    "    alt_num = regex_altnum.match(line_num)\n",
    "    if num:\n",
    "        bip_num = num.group(1)\n",
    "    elif alt_num:\n",
    "        bip_num = alt_num.group(1)\n",
    "\n",
    "    print(\"|[[bip-{0}]]https://github.com/bitcoin/bips/blob/master/bip-{0:04d}\"\n",
    "          \".mediawiki[BIP-{0}] |{1} |{2} |{3} |{4} \".format(int(bip_num),\n",
    "                                                            line_title,\n",
    "                                                            line_owner,\n",
    "                                                            line_type,\n",
    "                                                            line_status))\n",
    "f.close()\n"
   ]
  },
  {
   "cell_type": "code",
   "execution_count": null,
   "id": "f8e9f92c",
   "metadata": {},
   "outputs": [],
   "source": []
  }
 ],
 "metadata": {
  "kernelspec": {
   "display_name": "Python 3 (ipykernel)",
   "language": "python",
   "name": "python3"
  },
  "language_info": {
   "codemirror_mode": {
    "name": "ipython",
    "version": 3
   },
   "file_extension": ".py",
   "mimetype": "text/x-python",
   "name": "python",
   "nbconvert_exporter": "python",
   "pygments_lexer": "ipython3",
   "version": "3.9.12"
  }
 },
 "nbformat": 4,
 "nbformat_minor": 5
}
